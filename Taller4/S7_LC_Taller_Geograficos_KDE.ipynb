{
 "cells": [
  {
   "cell_type": "markdown",
   "id": "05ab9b9a",
   "metadata": {
    "id": "05ab9b9a"
   },
   "source": [
    "![Clase aprendizaje no supervisado](https://raw.githubusercontent.com/MECA4605-Aprendizaje-no-supervisado/taller_4/main/figs/taller-meca-aprendizaje%20no%20supervisado_banner%201169%20x%20200%20px%20-05.png)"
   ]
  },
  {
   "cell_type": "markdown",
   "id": "2b151b20",
   "metadata": {
    "id": "2b151b20"
   },
   "source": [
    "# Caso-taller:  Analizando el Delito en Chicago"
   ]
  },
  {
   "cell_type": "markdown",
   "id": "e0d05eac",
   "metadata": {
    "id": "e0d05eac"
   },
   "source": [
    "En este caso-taller vamos a utilizar datos geográficos y estimación de densidad de kernel para analizar delitos en Chicago. Esta ciudad es muy famosa no sólo por haber sido el hogar del mafioso Al Capone, sino también por sus altas tasas de delitos.\n",
    "\n",
    "Para este taller obtuve datos del portal de la [ciudad de Chicago](https://www.chicago.gov/city/en/dataset/crime.html). La base de datos fue traducida y modificada para nuestras necesidades. Esta contiene todos los homicidios y robos que sucedieron entre el 1 de junio y el 31 de agosto de 2019.\n"
   ]
  },
  {
   "cell_type": "markdown",
   "id": "892acd2b",
   "metadata": {
    "id": "892acd2b"
   },
   "source": [
    "## Instrucciones generales\n",
    "\n",
    "1. Para desarrollar el *cuaderno* primero debe descargarlo.\n",
    "\n",
    "2. Para responder cada inciso deberá utilizar el espacio debidamente especificado.\n",
    "\n",
    "3. La actividad será calificada sólo si sube el *cuaderno* de jupyter notebook con extensión `.ipynb` en la actividad designada como \"entrega calificada por el personal\".\n",
    "\n",
    "4. El archivo entregado debe poder ser ejecutado localmente por el tutor. Sea cuidadoso con la especificación de la ubicación de los archivos de soporte, guarde la carpeta de datos en el mismo `path` de su cuaderno, por ejemplo: `data`."
   ]
  },
  {
   "cell_type": "markdown",
   "id": "014e89b0",
   "metadata": {
    "id": "014e89b0"
   },
   "source": [
    "## Desarrollo\n"
   ]
  },
  {
   "cell_type": "markdown",
   "id": "611a45ca",
   "metadata": {
    "id": "611a45ca"
   },
   "source": [
    "### 1.Carga de datos\n",
    "\n",
    "#### 1.1. Delitos\n",
    "\n",
    "En la carpeta `data` se encuentra el archivo `Chicago_delitos_verano_2019.csv` cargue estos datos en su *cuaderno*. Describa brevemente el contenido de la base."
   ]
  },
  {
   "cell_type": "code",
   "execution_count": 9,
   "id": "20981832",
   "metadata": {},
   "outputs": [],
   "source": [
    "import pandas as pd\n",
    "import numpy as np\n",
    "\n",
    "import warnings\n",
    "warnings.simplefilter(\"ignore\")\n",
    "from sklearn.datasets import make_blobs\n",
    "from scipy import stats\n",
    "\n",
    "import matplotlib.pyplot as plt\n",
    "import seaborn as sns"
   ]
  },
  {
   "cell_type": "code",
   "execution_count": 2,
   "id": "a993f354",
   "metadata": {
    "id": "a993f354"
   },
   "outputs": [
    {
     "data": {
      "application/vnd.microsoft.datawrangler.viewer.v0+json": {
       "columns": [
        {
         "name": "index",
         "rawType": "int64",
         "type": "integer"
        },
        {
         "name": "fecha",
         "rawType": "object",
         "type": "string"
        },
        {
         "name": "tipo_crimen",
         "rawType": "object",
         "type": "string"
        },
        {
         "name": "nro_area_comunitaria",
         "rawType": "int64",
         "type": "integer"
        },
        {
         "name": "lat",
         "rawType": "float64",
         "type": "float"
        },
        {
         "name": "lon",
         "rawType": "float64",
         "type": "float"
        }
       ],
       "ref": "8ed33e5f-8d4c-4de6-8ceb-e51b7c2568a7",
       "rows": [
        [
         "0",
         "2019-06-01T05:07:00Z",
         "homicidio",
         "23",
         "41.897949791",
         "-87.728625471"
        ],
        [
         "1",
         "2019-06-01T10:09:00Z",
         "homicidio",
         "71",
         "41.753272058",
         "-87.648962792"
        ],
        [
         "2",
         "2019-06-01T12:46:00Z",
         "homicidio",
         "25",
         "41.877622161",
         "-87.750727697"
        ],
        [
         "3",
         "2019-06-01T11:35:00Z",
         "homicidio",
         "16",
         "41.960145088",
         "-87.699653761"
        ],
        [
         "4",
         "2019-06-02T09:39:00Z",
         "homicidio",
         "37",
         "41.804772841",
         "-87.633256046"
        ],
        [
         "5",
         "2019-06-02T11:30:00Z",
         "homicidio",
         "7",
         "41.911161199",
         "-87.633564277"
        ],
        [
         "6",
         "2019-06-02T11:33:00Z",
         "homicidio",
         "7",
         "41.911161199",
         "-87.633564277"
        ],
        [
         "7",
         "2019-06-03T21:12:00Z",
         "homicidio",
         "27",
         "41.874526187",
         "-87.711901076"
        ],
        [
         "8",
         "2019-06-05T02:11:00Z",
         "homicidio",
         "24",
         "41.890728337",
         "-87.682689318"
        ],
        [
         "9",
         "2019-06-05T07:10:00Z",
         "homicidio",
         "40",
         "41.788480446",
         "-87.623928854"
        ],
        [
         "10",
         "2019-06-05T18:38:00Z",
         "homicidio",
         "25",
         "41.890176109",
         "-87.750532837"
        ],
        [
         "11",
         "2019-06-05T23:55:00Z",
         "homicidio",
         "29",
         "41.862007878",
         "-87.727492147"
        ],
        [
         "12",
         "2019-06-06T16:30:00Z",
         "homicidio",
         "42",
         "41.777810401",
         "-87.593008043"
        ],
        [
         "13",
         "2019-06-07T05:21:00Z",
         "homicidio",
         "7",
         "41.926729375",
         "-87.631347326"
        ],
        [
         "14",
         "2019-06-08T11:44:00Z",
         "homicidio",
         "30",
         "41.838058092",
         "-87.710954949"
        ],
        [
         "15",
         "2019-06-08T20:06:00Z",
         "homicidio",
         "40",
         "41.793597589",
         "-87.627785273"
        ],
        [
         "16",
         "2019-06-09T08:22:00Z",
         "homicidio",
         "42",
         "41.774093686",
         "-87.607047693"
        ],
        [
         "17",
         "2019-06-09T15:41:00Z",
         "homicidio",
         "52",
         "41.696804495",
         "-87.535282089"
        ],
        [
         "18",
         "2019-06-12T03:46:00Z",
         "homicidio",
         "49",
         "41.723339662",
         "-87.632089363"
        ],
        [
         "19",
         "2019-06-12T05:01:00Z",
         "homicidio",
         "68",
         "41.773068142",
         "-87.644613509"
        ],
        [
         "20",
         "2019-06-12T13:28:00Z",
         "homicidio",
         "61",
         "41.795380992",
         "-87.665835417"
        ],
        [
         "21",
         "2019-06-13T05:15:00Z",
         "homicidio",
         "19",
         "41.924228431",
         "-87.747117979"
        ],
        [
         "22",
         "2019-06-13T23:35:00Z",
         "homicidio",
         "27",
         "41.88390335",
         "-87.71751699"
        ],
        [
         "23",
         "2019-06-15T13:02:00Z",
         "homicidio",
         "25",
         "41.884897329",
         "-87.754014481"
        ],
        [
         "24",
         "2019-06-15T11:14:00Z",
         "homicidio",
         "69",
         "41.752266466",
         "-87.601569405"
        ],
        [
         "25",
         "2019-06-16T01:35:00Z",
         "homicidio",
         "66",
         "41.770182969",
         "-87.680169774"
        ],
        [
         "26",
         "2019-06-16T06:26:00Z",
         "homicidio",
         "30",
         "41.848873261",
         "-87.712479744"
        ],
        [
         "27",
         "2019-06-16T07:51:00Z",
         "homicidio",
         "48",
         "41.732599207",
         "-87.585555292"
        ],
        [
         "28",
         "2019-06-17T03:37:00Z",
         "homicidio",
         "66",
         "41.776534731",
         "-87.68966672"
        ],
        [
         "29",
         "2019-06-17T04:57:00Z",
         "homicidio",
         "43",
         "41.752480297",
         "-87.56990311"
        ],
        [
         "30",
         "2019-06-17T07:35:00Z",
         "homicidio",
         "6",
         "41.935855273",
         "-87.644257764"
        ],
        [
         "31",
         "2019-06-18T11:06:00Z",
         "homicidio",
         "69",
         "41.776018543",
         "-87.615520426"
        ],
        [
         "32",
         "2019-06-19T19:36:00Z",
         "homicidio",
         "73",
         "41.711437469",
         "-87.639309285"
        ],
        [
         "33",
         "2019-06-20T02:35:00Z",
         "homicidio",
         "66",
         "41.763714219",
         "-87.691781545"
        ],
        [
         "34",
         "2019-06-20T19:49:00Z",
         "homicidio",
         "25",
         "41.879309009",
         "-87.760373544"
        ],
        [
         "35",
         "2019-06-21T23:00:00Z",
         "homicidio",
         "26",
         "41.884545666",
         "-87.737312133"
        ],
        [
         "36",
         "2019-06-21T17:51:00Z",
         "homicidio",
         "44",
         "41.748542818",
         "-87.599046491"
        ],
        [
         "37",
         "2019-06-21T19:52:00Z",
         "homicidio",
         "67",
         "41.773061957",
         "-87.672529994"
        ],
        [
         "38",
         "2019-06-22T03:47:00Z",
         "homicidio",
         "29",
         "41.860175271",
         "-87.709147333"
        ],
        [
         "39",
         "2019-06-22T08:44:00Z",
         "homicidio",
         "26",
         "41.882323559",
         "-87.737982768"
        ],
        [
         "40",
         "2019-06-22T21:28:00Z",
         "homicidio",
         "50",
         "41.71752439",
         "-87.598267882"
        ],
        [
         "41",
         "2019-06-23T09:38:00Z",
         "homicidio",
         "66",
         "41.760272856",
         "-87.680574497"
        ],
        [
         "42",
         "2019-06-23T23:24:00Z",
         "homicidio",
         "26",
         "41.871646482",
         "-87.724008569"
        ],
        [
         "43",
         "2019-06-26T22:10:00Z",
         "homicidio",
         "23",
         "41.89720223",
         "-87.725293698"
        ],
        [
         "44",
         "2019-06-27T19:57:00Z",
         "homicidio",
         "1",
         "42.007407966",
         "-87.666158586"
        ],
        [
         "45",
         "2019-06-29T01:11:00Z",
         "homicidio",
         "27",
         "41.885388355",
         "-87.706929899"
        ],
        [
         "46",
         "2019-06-28T13:55:00Z",
         "homicidio",
         "46",
         "41.747370809",
         "-87.550387856"
        ],
        [
         "47",
         "2019-06-29T10:45:00Z",
         "homicidio",
         "23",
         "41.89370723",
         "-87.708134126"
        ],
        [
         "48",
         "2019-06-29T20:40:00Z",
         "homicidio",
         "71",
         "41.75515014",
         "-87.651435012"
        ],
        [
         "49",
         "2019-06-30T04:49:00Z",
         "homicidio",
         "65",
         "41.783218289",
         "-87.724109542"
        ]
       ],
       "shape": {
        "columns": 5,
        "rows": 17747
       }
      },
      "text/html": [
       "<div>\n",
       "<style scoped>\n",
       "    .dataframe tbody tr th:only-of-type {\n",
       "        vertical-align: middle;\n",
       "    }\n",
       "\n",
       "    .dataframe tbody tr th {\n",
       "        vertical-align: top;\n",
       "    }\n",
       "\n",
       "    .dataframe thead th {\n",
       "        text-align: right;\n",
       "    }\n",
       "</style>\n",
       "<table border=\"1\" class=\"dataframe\">\n",
       "  <thead>\n",
       "    <tr style=\"text-align: right;\">\n",
       "      <th></th>\n",
       "      <th>fecha</th>\n",
       "      <th>tipo_crimen</th>\n",
       "      <th>nro_area_comunitaria</th>\n",
       "      <th>lat</th>\n",
       "      <th>lon</th>\n",
       "    </tr>\n",
       "  </thead>\n",
       "  <tbody>\n",
       "    <tr>\n",
       "      <th>0</th>\n",
       "      <td>2019-06-01T05:07:00Z</td>\n",
       "      <td>homicidio</td>\n",
       "      <td>23</td>\n",
       "      <td>41.897950</td>\n",
       "      <td>-87.728625</td>\n",
       "    </tr>\n",
       "    <tr>\n",
       "      <th>1</th>\n",
       "      <td>2019-06-01T10:09:00Z</td>\n",
       "      <td>homicidio</td>\n",
       "      <td>71</td>\n",
       "      <td>41.753272</td>\n",
       "      <td>-87.648963</td>\n",
       "    </tr>\n",
       "    <tr>\n",
       "      <th>2</th>\n",
       "      <td>2019-06-01T12:46:00Z</td>\n",
       "      <td>homicidio</td>\n",
       "      <td>25</td>\n",
       "      <td>41.877622</td>\n",
       "      <td>-87.750728</td>\n",
       "    </tr>\n",
       "    <tr>\n",
       "      <th>3</th>\n",
       "      <td>2019-06-01T11:35:00Z</td>\n",
       "      <td>homicidio</td>\n",
       "      <td>16</td>\n",
       "      <td>41.960145</td>\n",
       "      <td>-87.699654</td>\n",
       "    </tr>\n",
       "    <tr>\n",
       "      <th>4</th>\n",
       "      <td>2019-06-02T09:39:00Z</td>\n",
       "      <td>homicidio</td>\n",
       "      <td>37</td>\n",
       "      <td>41.804773</td>\n",
       "      <td>-87.633256</td>\n",
       "    </tr>\n",
       "    <tr>\n",
       "      <th>...</th>\n",
       "      <td>...</td>\n",
       "      <td>...</td>\n",
       "      <td>...</td>\n",
       "      <td>...</td>\n",
       "      <td>...</td>\n",
       "    </tr>\n",
       "    <tr>\n",
       "      <th>17742</th>\n",
       "      <td>2019-08-20T18:00:00Z</td>\n",
       "      <td>robo</td>\n",
       "      <td>77</td>\n",
       "      <td>41.980874</td>\n",
       "      <td>-87.659992</td>\n",
       "    </tr>\n",
       "    <tr>\n",
       "      <th>17743</th>\n",
       "      <td>2019-06-20T17:00:00Z</td>\n",
       "      <td>robo</td>\n",
       "      <td>77</td>\n",
       "      <td>41.987182</td>\n",
       "      <td>-87.666804</td>\n",
       "    </tr>\n",
       "    <tr>\n",
       "      <th>17744</th>\n",
       "      <td>2019-08-01T05:01:00Z</td>\n",
       "      <td>robo</td>\n",
       "      <td>25</td>\n",
       "      <td>41.890446</td>\n",
       "      <td>-87.757887</td>\n",
       "    </tr>\n",
       "    <tr>\n",
       "      <th>17745</th>\n",
       "      <td>2019-08-19T05:01:00Z</td>\n",
       "      <td>robo</td>\n",
       "      <td>8</td>\n",
       "      <td>41.904537</td>\n",
       "      <td>-87.634504</td>\n",
       "    </tr>\n",
       "    <tr>\n",
       "      <th>17746</th>\n",
       "      <td>2019-07-04T05:00:00Z</td>\n",
       "      <td>robo</td>\n",
       "      <td>22</td>\n",
       "      <td>41.919223</td>\n",
       "      <td>-87.689216</td>\n",
       "    </tr>\n",
       "  </tbody>\n",
       "</table>\n",
       "<p>17747 rows × 5 columns</p>\n",
       "</div>"
      ],
      "text/plain": [
       "                      fecha tipo_crimen  nro_area_comunitaria        lat  \\\n",
       "0      2019-06-01T05:07:00Z   homicidio                    23  41.897950   \n",
       "1      2019-06-01T10:09:00Z   homicidio                    71  41.753272   \n",
       "2      2019-06-01T12:46:00Z   homicidio                    25  41.877622   \n",
       "3      2019-06-01T11:35:00Z   homicidio                    16  41.960145   \n",
       "4      2019-06-02T09:39:00Z   homicidio                    37  41.804773   \n",
       "...                     ...         ...                   ...        ...   \n",
       "17742  2019-08-20T18:00:00Z        robo                    77  41.980874   \n",
       "17743  2019-06-20T17:00:00Z        robo                    77  41.987182   \n",
       "17744  2019-08-01T05:01:00Z        robo                    25  41.890446   \n",
       "17745  2019-08-19T05:01:00Z        robo                     8  41.904537   \n",
       "17746  2019-07-04T05:00:00Z        robo                    22  41.919223   \n",
       "\n",
       "             lon  \n",
       "0     -87.728625  \n",
       "1     -87.648963  \n",
       "2     -87.750728  \n",
       "3     -87.699654  \n",
       "4     -87.633256  \n",
       "...          ...  \n",
       "17742 -87.659992  \n",
       "17743 -87.666804  \n",
       "17744 -87.757887  \n",
       "17745 -87.634504  \n",
       "17746 -87.689216  \n",
       "\n",
       "[17747 rows x 5 columns]"
      ]
     },
     "execution_count": 2,
     "metadata": {},
     "output_type": "execute_result"
    }
   ],
   "source": [
    "chicago = pd.read_csv('https://raw.githubusercontent.com/sebastian23escobar/Aprendizaje_no_supervisado/refs/heads/main/Taller4/data/Chicago_delitos_verano_2019.csv')\n",
    "chicago"
   ]
  },
  {
   "cell_type": "code",
   "execution_count": 3,
   "id": "d3d8a419",
   "metadata": {},
   "outputs": [
    {
     "name": "stdout",
     "output_type": "stream",
     "text": [
      "<class 'pandas.core.frame.DataFrame'>\n",
      "RangeIndex: 17747 entries, 0 to 17746\n",
      "Data columns (total 5 columns):\n",
      " #   Column                Non-Null Count  Dtype  \n",
      "---  ------                --------------  -----  \n",
      " 0   fecha                 17747 non-null  object \n",
      " 1   tipo_crimen           17747 non-null  object \n",
      " 2   nro_area_comunitaria  17747 non-null  int64  \n",
      " 3   lat                   17747 non-null  float64\n",
      " 4   lon                   17747 non-null  float64\n",
      "dtypes: float64(2), int64(1), object(2)\n",
      "memory usage: 693.4+ KB\n"
     ]
    }
   ],
   "source": [
    "chicago.info()"
   ]
  },
  {
   "cell_type": "code",
   "execution_count": 6,
   "id": "1f2bb058",
   "metadata": {},
   "outputs": [],
   "source": [
    "# convertir fecha a formato fecha\n",
    "chicago['fecha'] = pd.to_datetime(chicago['fecha'])"
   ]
  },
  {
   "cell_type": "code",
   "execution_count": 7,
   "id": "b685ab54",
   "metadata": {},
   "outputs": [
    {
     "data": {
      "text/plain": [
       "array(['homicidio', 'robo'], dtype=object)"
      ]
     },
     "execution_count": 7,
     "metadata": {},
     "output_type": "execute_result"
    }
   ],
   "source": [
    "chicago['tipo_crimen'].unique()"
   ]
  },
  {
   "cell_type": "code",
   "execution_count": 17,
   "id": "d2afb623",
   "metadata": {},
   "outputs": [],
   "source": [
    "# crear una serie de tiempo\n",
    "serie_tiempo = chicago.groupby(['fecha', 'tipo_crimen']).size().reset_index(name = 'conteo')\n",
    "\n",
    "# filtrar serie de tiempo por robos\n",
    "robos = serie_tiempo[serie_tiempo['tipo_crimen'] == 'robo']\n",
    "# filtrar serie de tiempo por homicidios\n",
    "homicidios = serie_tiempo[serie_tiempo['tipo_crimen'] == 'homicidio']"
   ]
  },
  {
   "cell_type": "code",
   "execution_count": 18,
   "id": "3b45bbdc",
   "metadata": {},
   "outputs": [
    {
     "data": {
      "image/png": "[encoded data removed]",
      "text/plain": [
       "<Figure size 1400x600 with 1 Axes>"
      ]
     },
     "metadata": {},
     "output_type": "display_data"
    }
   ],
   "source": [
    "plt.figure(figsize = (14,6))\n",
    "sns.lineplot(data = homicidios, x = 'fecha', y = 'conteo', hue = 'tipo_crimen', marker = 'o')\n",
    "plt.title('Homicidios por día')\n",
    "plt.xlabel('Fecha')\n",
    "plt.ylabel('Número de crímenes')\n",
    "plt.xticks(rotation = 45)\n",
    "plt.tight_layout()\n",
    "plt.grid(True)\n",
    "plt.show()"
   ]
  },
  {
   "cell_type": "code",
   "execution_count": 23,
   "id": "1c29f70c",
   "metadata": {},
   "outputs": [
    {
     "data": {
      "application/vnd.microsoft.datawrangler.viewer.v0+json": {
       "columns": [
        {
         "name": "index",
         "rawType": "object",
         "type": "string"
        },
        {
         "name": "conteo",
         "rawType": "float64",
         "type": "float"
        }
       ],
       "ref": "21feb259-f5f9-4180-b93d-de5ce71af1b0",
       "rows": [
        [
         "count",
         "144.0"
        ],
        [
         "mean",
         "1.0"
        ],
        [
         "std",
         "0.0"
        ],
        [
         "min",
         "1.0"
        ],
        [
         "25%",
         "1.0"
        ],
        [
         "50%",
         "1.0"
        ],
        [
         "75%",
         "1.0"
        ],
        [
         "max",
         "1.0"
        ]
       ],
       "shape": {
        "columns": 1,
        "rows": 8
       }
      },
      "text/plain": [
       "count    144.0\n",
       "mean       1.0\n",
       "std        0.0\n",
       "min        1.0\n",
       "25%        1.0\n",
       "50%        1.0\n",
       "75%        1.0\n",
       "max        1.0\n",
       "Name: conteo, dtype: float64"
      ]
     },
     "execution_count": 23,
     "metadata": {},
     "output_type": "execute_result"
    }
   ],
   "source": [
    "homicidios['conteo'].describe()"
   ]
  },
  {
   "cell_type": "code",
   "execution_count": 19,
   "id": "8df8a162",
   "metadata": {},
   "outputs": [
    {
     "data": {
      "image/png": "[encoded data removed]",
      "text/plain": [
       "<Figure size 1400x600 with 1 Axes>"
      ]
     },
     "metadata": {},
     "output_type": "display_data"
    }
   ],
   "source": [
    "plt.figure(figsize = (14,6))\n",
    "sns.lineplot(data = robos, x = 'fecha', y = 'conteo', hue = 'tipo_crimen', marker = 'o')\n",
    "plt.title('Robos por día')\n",
    "plt.xlabel('Fecha')\n",
    "plt.ylabel('Número de crímenes')\n",
    "plt.xticks(rotation = 45)\n",
    "plt.tight_layout()\n",
    "plt.grid(True)\n",
    "plt.show()"
   ]
  },
  {
   "cell_type": "code",
   "execution_count": 24,
   "id": "0198679b",
   "metadata": {},
   "outputs": [
    {
     "data": {
      "application/vnd.microsoft.datawrangler.viewer.v0+json": {
       "columns": [
        {
         "name": "index",
         "rawType": "object",
         "type": "string"
        },
        {
         "name": "conteo",
         "rawType": "float64",
         "type": "float"
        }
       ],
       "ref": "4b09aaba-b851-482f-b5e7-84ffa6faf546",
       "rows": [
        [
         "count",
         "10088.0"
        ],
        [
         "mean",
         "1.7449444885011896"
        ],
        [
         "std",
         "1.4902858568263166"
        ],
        [
         "min",
         "1.0"
        ],
        [
         "25%",
         "1.0"
        ],
        [
         "50%",
         "1.0"
        ],
        [
         "75%",
         "2.0"
        ],
        [
         "max",
         "15.0"
        ]
       ],
       "shape": {
        "columns": 1,
        "rows": 8
       }
      },
      "text/plain": [
       "count    10088.000000\n",
       "mean         1.744944\n",
       "std          1.490286\n",
       "min          1.000000\n",
       "25%          1.000000\n",
       "50%          1.000000\n",
       "75%          2.000000\n",
       "max         15.000000\n",
       "Name: conteo, dtype: float64"
      ]
     },
     "execution_count": 24,
     "metadata": {},
     "output_type": "execute_result"
    }
   ],
   "source": [
    "robos['conteo'].describe()"
   ]
  },
  {
   "cell_type": "code",
   "execution_count": 32,
   "id": "1c51a3bc",
   "metadata": {},
   "outputs": [
    {
     "name": "stdout",
     "output_type": "stream",
     "text": [
      "10088\n",
      "144\n"
     ]
    }
   ],
   "source": [
    "print(len(robos))\n",
    "print(len(homicidios))"
   ]
  },
  {
   "cell_type": "markdown",
   "id": "d448f7a6",
   "metadata": {},
   "source": [
    "A partir de los datos encontramos que los homicidios tienen una frecuencia máxima de 1 y es posible apreciar, por la gráfica, que este tipo de delitos es recurrente en la ciudad. Concretamente, los datos describen 144 homicidios. Por su parte, los tobos son un delito más común que, en nuestros datos, ha tenido un máximo histórico de 15 robos en un día en 1088 observaciones díarias."
   ]
  },
  {
   "cell_type": "markdown",
   "id": "c915f045",
   "metadata": {
    "id": "c915f045"
   },
   "source": [
    "#### 1.2. Barrios de Chicago\n",
    "\n",
    "También en la carpeta `data` se encuentran los archivos con los polígonos de las áreas comunitarias en un archivo comprimido llamado `Areas_comunitarias_Chicago.zip`. Genere un mapa interactivo con un popup con el nombre del area comunitaria."
   ]
  },
  {
   "cell_type": "code",
   "execution_count": null,
   "id": "aed8458e",
   "metadata": {
    "id": "aed8458e"
   },
   "outputs": [],
   "source": [
    "# Utilice este espacio para escribir el código."
   ]
  },
  {
   "cell_type": "markdown",
   "id": "3fc38d31",
   "metadata": {
    "id": "3fc38d31"
   },
   "source": [
    "(Utilice este espacio para describir su procedimiento)."
   ]
  },
  {
   "cell_type": "markdown",
   "id": "a507b795",
   "metadata": {
    "id": "a507b795"
   },
   "source": [
    "### 2.   Análisis distribución del crimen por barrios\n",
    "\n",
    "#### 2.1.  Genere una tabla descriptiva donde se muestra el número total de delitos, el número total de robos y el número total de homicidios, y como porcentaje de total por barrios. La tabla debe contener ademas una fila final donde se muestre el total para la ciudad. Describa los resultados que obtiene.\n"
   ]
  },
  {
   "cell_type": "code",
   "execution_count": null,
   "id": "9e6a4a17",
   "metadata": {
    "id": "9e6a4a17"
   },
   "outputs": [],
   "source": [
    "# Utilice este espacio para escribir el código."
   ]
  },
  {
   "cell_type": "markdown",
   "id": "00198bf9",
   "metadata": {
    "id": "00198bf9"
   },
   "source": [
    "(Utilice este espacio para describir el procedimiento, análisis, y conclusiones)"
   ]
  },
  {
   "cell_type": "markdown",
   "id": "da65c5a5",
   "metadata": {
    "id": "da65c5a5"
   },
   "source": [
    "#### 2.2. Genere una gráfica de dispersión entre el total de homicidios y robos por barrios. Incluya en la gráfica la recta de regresión que mejor ajusta a esos datos. Describa los resultados que obtiene."
   ]
  },
  {
   "cell_type": "code",
   "execution_count": null,
   "id": "fb0f6d0e",
   "metadata": {
    "id": "fb0f6d0e"
   },
   "outputs": [],
   "source": [
    "# Utilice este espacio para escribir el código."
   ]
  },
  {
   "cell_type": "markdown",
   "id": "69e81eb7",
   "metadata": {
    "id": "69e81eb7"
   },
   "source": [
    "(Utilice este espacio para describir el procedimiento, análisis, y conclusiones)"
   ]
  },
  {
   "cell_type": "markdown",
   "id": "b2c6a5be",
   "metadata": {
    "id": "b2c6a5be"
   },
   "source": [
    "### 3. Distribución espacial del delito\n",
    "\n",
    "#### 3.1 Distribución respecto al centro de la ciudad\n",
    "\n",
    "Tomando como centro de la ciudad las coordenadas (-87.627800, 41.881998), estime funciones de densidad que muestren gráficamente el gradiente del total de robos, y homicidios, como función de la distancia al centro de la ciudad. Explique cómo midió las distancias incluyendo que medida de distancia utilizó. Para elegir el ancho de banda y la función de kernel más apropiados utilice validación cruzada usando todas las opciones posibles de kernel. Describa los resultados que obtiene."
   ]
  },
  {
   "cell_type": "code",
   "execution_count": null,
   "id": "af3bca18",
   "metadata": {
    "id": "af3bca18"
   },
   "outputs": [],
   "source": [
    "# Utilice este espacio para escribir el código."
   ]
  },
  {
   "cell_type": "markdown",
   "id": "48a76434",
   "metadata": {
    "id": "48a76434"
   },
   "source": [
    "(Utilice este espacio para describir el procedimiento, análisis, y conclusiones)"
   ]
  },
  {
   "cell_type": "markdown",
   "id": "34249325",
   "metadata": {
    "id": "34249325"
   },
   "source": [
    "### 3.2 Puntos calientes en la ciudad\n",
    "\n",
    "Usando `statsmodels` implemente la estimación de densidad bivariada para el total de robos y el total de homicidios. Muestre los resultados usando curvas de nivel en una visualización interactiva. Compare los resultados de estimar usando los anchos de banda: `normal_reference` y `cv_ml`. Explique en que consisten ambas formas de estimar el ancho de banda. Comente sobre los puntos calientes encontrados bajo ambos métodos y su ubicación en la ciudad. (Esto puede tomar mucho tiempo y requerir mucha capacidad computacional, puede aprovechar los recursos de [Google Colab](https://colab.research.google.com/))"
   ]
  },
  {
   "cell_type": "code",
   "execution_count": null,
   "id": "6a810300",
   "metadata": {
    "id": "6a810300"
   },
   "outputs": [],
   "source": [
    "# Utilice este espacio para escribir el código."
   ]
  },
  {
   "cell_type": "markdown",
   "id": "77986ba2",
   "metadata": {
    "id": "77986ba2"
   },
   "source": [
    "(Utilice este espacio para describir el procedimiento, análisis, y conclusiones)"
   ]
  },
  {
   "cell_type": "markdown",
   "id": "0e2b092f",
   "metadata": {
    "id": "0e2b092f"
   },
   "source": [
    "## 4. Explicando la ubicación del delito\n",
    "\n",
    "El objetivo de este punto es encontrar posibles correlaciones  entre el crimen y características de la ciudad. Para ello, utilice los datos de OpenStreetMap y explore si existe una correlación entre el porcentaje del área de la comunidad  dedicado a tiendas (`retail`)  y comercios (`commercial`) y el número total de robos y homicidios en esa comunidad. Ofrezca una explicación intuitiva de por qué cree que aparecen estas correlaciones. (Esto puede tomar mucho tiempo y requerir mucha capacidad computacional, puede aprovechar los recursos de [Google Colab](https://colab.research.google.com/))"
   ]
  },
  {
   "cell_type": "code",
   "execution_count": null,
   "id": "7f925ab5",
   "metadata": {
    "id": "7f925ab5"
   },
   "outputs": [],
   "source": [
    "# Utilice este espacio para escribir el código."
   ]
  },
  {
   "cell_type": "markdown",
   "id": "6a062d05",
   "metadata": {
    "id": "6a062d05"
   },
   "source": [
    "(Utilice este espacio para describir el procedimiento, análisis, y conclusiones)"
   ]
  }
 ],
 "metadata": {
  "colab": {
   "provenance": []
  },
  "kernelspec": {
   "display_name": "base",
   "language": "python",
   "name": "python3"
  },
  "language_info": {
   "codemirror_mode": {
    "name": "ipython",
    "version": 3
   },
   "file_extension": ".py",
   "mimetype": "text/x-python",
   "name": "python",
   "nbconvert_exporter": "python",
   "pygments_lexer": "ipython3",
   "version": "3.11.5"
  },
  "toc": {
   "base_numbering": 1,
   "nav_menu": {},
   "number_sections": true,
   "sideBar": true,
   "skip_h1_title": false,
   "title_cell": "Table of Contents",
   "title_sidebar": "Contents",
   "toc_cell": false,
   "toc_position": {},
   "toc_section_display": true,
   "toc_window_display": false
  }
 },
 "nbformat": 4,
 "nbformat_minor": 5
}
